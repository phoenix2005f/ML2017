{
 "cells": [
  {
   "cell_type": "markdown",
   "metadata": {},
   "source": [
    "## Q1  出現數字統計"
   ]
  },
  {
   "cell_type": "markdown",
   "metadata": {},
   "source": [
    "1. 讀取words.txt中的所有英文單字，英文單字之間皆由space做分隔\n",
    "2. 按照單字出現的順序，給予編號(0, 1, 2 ...)。 (不要跳號)\n",
    "3. 計算單字出現的次數。\n",
    "4. 將得到編號和次數，由單字出現在words.txt的順序輸出至 Q1.txt，最後一行不要換行，每一行皆為:單字 編號 出現次數 (輸出範例參考下頁)"
   ]
  },
  {
   "cell_type": "code",
   "execution_count": 29,
   "metadata": {},
   "outputs": [],
   "source": [
    "f = open(\"./words.txt\")\n",
    "sol = {}\n",
    "id_num=0\n",
    "file = f.readline().rstrip()\n",
    "words=file.split(\" \")\n",
    "\n",
    "for word in words:\n",
    "    if word not in sol:\n",
    "        sol[word]={\n",
    "            'id':id_num,\n",
    "            'count':1\n",
    "        }\n",
    "        id_num+=1\n",
    "    else:\n",
    "        sol[word]['count']+=1\n",
    "\n",
    "with open('Q1.txt','a') as the_file:\n",
    "    for key,val in sol.items():\n",
    "        the_file.write(key+' '+str(val['id'])+' '+str(val['count'])+'\\n')\n",
    "    "
   ]
  },
  {
   "cell_type": "markdown",
   "metadata": {},
   "source": [
    "## Q2 圖片淡化"
   ]
  },
  {
   "cell_type": "markdown",
   "metadata": {},
   "source": [
    "1. 讀取 westbrook.jpg\n",
    "2. 將每個pixel的RGB數值都減半(ex: (122, 244, 245)-> (61, 122, 122))，再將圖片輸出為 Q2.jpg\n",
    "3. RGB數值記得要去掉小數點!(無條件捨去)"
   ]
  },
  {
   "cell_type": "code",
   "execution_count": 30,
   "metadata": {
    "collapsed": true
   },
   "outputs": [],
   "source": [
    "from PIL import Image"
   ]
  },
  {
   "cell_type": "code",
   "execution_count": 54,
   "metadata": {},
   "outputs": [],
   "source": [
    "jpgfile = Image.open(\"./westbrook.jpg\")\n",
    "pix = jpgfile.load()\n",
    "\n",
    "width,height = jpgfile.size\n",
    "\n",
    "for i in range(width):\n",
    "    for j in range(height):\n",
    "        rgb=tuple(int(el/2) for el in pix[i,j])\n",
    "        pix[i,j]=rgb\n",
    "jpgfile.save(\"./Q2.jpg\")        \n",
    "        "
   ]
  },
  {
   "cell_type": "code",
   "execution_count": null,
   "metadata": {
    "collapsed": true
   },
   "outputs": [],
   "source": []
  }
 ],
 "metadata": {
  "kernelspec": {
   "display_name": "Python 3",
   "language": "python",
   "name": "python3"
  },
  "language_info": {
   "codemirror_mode": {
    "name": "ipython",
    "version": 3
   },
   "file_extension": ".py",
   "mimetype": "text/x-python",
   "name": "python",
   "nbconvert_exporter": "python",
   "pygments_lexer": "ipython3",
   "version": "3.6.1"
  }
 },
 "nbformat": 4,
 "nbformat_minor": 2
}
