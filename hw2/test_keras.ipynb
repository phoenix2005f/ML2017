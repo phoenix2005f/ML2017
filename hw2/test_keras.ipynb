{
 "cells": [
  {
   "cell_type": "code",
   "execution_count": 1,
   "metadata": {},
   "outputs": [
    {
     "name": "stderr",
     "output_type": "stream",
     "text": [
      "/Users/phx/anaconda/lib/python3.6/site-packages/h5py/__init__.py:34: FutureWarning: Conversion of the second argument of issubdtype from `float` to `np.floating` is deprecated. In future, it will be treated as `np.float64 == np.dtype(float).type`.\n",
      "  from ._conv import register_converters as _register_converters\n",
      "Using TensorFlow backend.\n"
     ]
    }
   ],
   "source": [
    "import numpy as np  \n",
    "from keras.models import Sequential\n",
    "from keras.datasets import mnist\n",
    "from keras.layers import Dense, Dropout, Activation, Flatten\n",
    "from keras.utils import np_utils  # 用來後續將 label 標籤轉為 one-hot-encoding  "
   ]
  },
  {
   "cell_type": "code",
   "execution_count": 2,
   "metadata": {},
   "outputs": [
    {
     "name": "stdout",
     "output_type": "stream",
     "text": [
      "Downloading data from https://s3.amazonaws.com/img-datasets/mnist.npz\n",
      "11493376/11490434 [==============================] - 92s 8us/step\n"
     ]
    }
   ],
   "source": [
    "(X_train, y_train), (X_test, y_test) = mnist.load_data()\n"
   ]
  },
  {
   "cell_type": "code",
   "execution_count": 6,
   "metadata": {},
   "outputs": [
    {
     "name": "stdout",
     "output_type": "stream",
     "text": [
      "Train on 48000 samples, validate on 12000 samples\n",
      "Epoch 1/10\n",
      " - 2s - loss: 0.7821 - acc: 0.8033 - val_loss: 0.3173 - val_acc: 0.9136\n",
      "Epoch 2/10\n",
      " - 1s - loss: 0.2931 - acc: 0.9180 - val_loss: 0.2428 - val_acc: 0.9323\n",
      "Epoch 3/10\n",
      " - 1s - loss: 0.2295 - acc: 0.9358 - val_loss: 0.2027 - val_acc: 0.9444\n",
      "Epoch 4/10\n",
      " - 1s - loss: 0.1903 - acc: 0.9461 - val_loss: 0.1769 - val_acc: 0.9503\n",
      "Epoch 5/10\n",
      " - 1s - loss: 0.1604 - acc: 0.9545 - val_loss: 0.1557 - val_acc: 0.9567\n",
      "Epoch 6/10\n",
      " - 1s - loss: 0.1389 - acc: 0.9609 - val_loss: 0.1430 - val_acc: 0.9594\n",
      "Epoch 7/10\n",
      " - 1s - loss: 0.1224 - acc: 0.9659 - val_loss: 0.1296 - val_acc: 0.9625\n",
      "Epoch 8/10\n",
      " - 1s - loss: 0.1082 - acc: 0.9705 - val_loss: 0.1243 - val_acc: 0.9645\n",
      "Epoch 9/10\n",
      " - 1s - loss: 0.0972 - acc: 0.9724 - val_loss: 0.1173 - val_acc: 0.9644\n",
      "Epoch 10/10\n",
      " - 1s - loss: 0.0873 - acc: 0.9759 - val_loss: 0.1082 - val_acc: 0.9678\n",
      "10000/10000 [==============================] - 1s 51us/step\n",
      "\n",
      "\t[Info] Accuracy of testing data = 96.9%\n",
      "[7 2 1 0 4 1 4 9 6 9]\n"
     ]
    }
   ],
   "source": [
    "# 建立簡單的線性執行的模型\n",
    "model = Sequential()\n",
    "\n",
    "# Add Input layer, 隱藏層(hidden layer) 有 256個輸出變數\n",
    "model.add(Dense(units=256, input_dim=784, kernel_initializer='normal', activation='relu')) \n",
    "# Add output layer\n",
    "model.add(Dense(units=10, kernel_initializer='normal', activation='softmax'))\n",
    "\n",
    "# 編譯: 選擇損失函數、優化方法及成效衡量方式\n",
    "model.compile(loss='categorical_crossentropy', optimizer='adam', metrics=['accuracy']) \n",
    "\n",
    "# 將 training 的 label 進行 one-hot encoding，例如數字 7 經過 One-hot encoding 轉換後是 0000001000，即第7個值為 1\n",
    "y_TrainOneHot = np_utils.to_categorical(y_train) \n",
    "y_TestOneHot = np_utils.to_categorical(y_test) \n",
    "\n",
    "# 將 training 的 input 資料轉為2維\n",
    "X_train_2D = X_train.reshape(60000, 28*28).astype('float32')  \n",
    "X_test_2D = X_test.reshape(10000, 28*28).astype('float32')  \n",
    "\n",
    "x_Train_norm = X_train_2D/255\n",
    "x_Test_norm = X_test_2D/255\n",
    "\n",
    "# 進行訓練, 訓練過程會存在 train_history 變數中\n",
    "train_history = model.fit(x=x_Train_norm, y=y_TrainOneHot, validation_split=0.2, epochs=10, batch_size=800, verbose=2)  \n",
    "\n",
    "# 顯示訓練成果(分數)\n",
    "scores = model.evaluate(x_Test_norm, y_TestOneHot)  \n",
    "print()  \n",
    "print(\"\\t[Info] Accuracy of testing data = {:2.1f}%\".format(scores[1]*100.0))  \n",
    "\n",
    "# 預測(prediction)\n",
    "X = x_Test_norm[0:10,:]\n",
    "predictions = model.predict_classes(X)\n",
    "# get prediction result\n",
    "print(predictions)\n"
   ]
  },
  {
   "cell_type": "code",
   "execution_count": 7,
   "metadata": {},
   "outputs": [
    {
     "data": {
      "text/plain": [
       "array([[0., 0., 0., ..., 0., 0., 0.],\n",
       "       [1., 0., 0., ..., 0., 0., 0.],\n",
       "       [0., 0., 0., ..., 0., 0., 0.],\n",
       "       ...,\n",
       "       [0., 0., 0., ..., 0., 0., 0.],\n",
       "       [0., 0., 0., ..., 0., 0., 0.],\n",
       "       [0., 0., 0., ..., 0., 1., 0.]], dtype=float32)"
      ]
     },
     "execution_count": 7,
     "metadata": {},
     "output_type": "execute_result"
    }
   ],
   "source": [
    "y_TrainOneHot"
   ]
  },
  {
   "cell_type": "code",
   "execution_count": null,
   "metadata": {
    "collapsed": true
   },
   "outputs": [],
   "source": []
  }
 ],
 "metadata": {
  "kernelspec": {
   "display_name": "Python 3",
   "language": "python",
   "name": "python3"
  },
  "language_info": {
   "codemirror_mode": {
    "name": "ipython",
    "version": 3
   },
   "file_extension": ".py",
   "mimetype": "text/x-python",
   "name": "python",
   "nbconvert_exporter": "python",
   "pygments_lexer": "ipython3",
   "version": "3.6.1"
  }
 },
 "nbformat": 4,
 "nbformat_minor": 2
}
